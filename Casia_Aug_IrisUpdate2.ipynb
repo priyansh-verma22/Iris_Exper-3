{
  "cells": [
    {
      "cell_type": "code",
      "source": [
        "from google.colab import drive\n",
        "drive.mount('/content/drive')"
      ],
      "metadata": {
        "colab": {
          "base_uri": "https://localhost:8080/"
        },
        "id": "1cLHwArFOCR7",
        "outputId": "9352870e-7dc1-43da-8ce3-2afa5731a3f0"
      },
      "execution_count": 5,
      "outputs": [
        {
          "output_type": "stream",
          "name": "stdout",
          "text": [
            "Drive already mounted at /content/drive; to attempt to forcibly remount, call drive.mount(\"/content/drive\", force_remount=True).\n"
          ]
        }
      ]
    },
    {
      "cell_type": "code",
      "execution_count": 13,
      "metadata": {
        "id": "uOq60nDjH_zz"
      },
      "outputs": [],
      "source": [
        "import zipfile\n",
        "import os\n",
        "\n",
        "zip_path = \"/content/drive/MyDrive/CASIA-Iris-Interval-20250617T034139Z-1-001.zip\"  # Replace with your actual filename\n",
        "with zipfile.ZipFile(zip_path, 'r') as zip_ref:\n",
        "    zip_ref.extractall(\"unzipped_Iris-Interval\")"
      ]
    },
    {
      "cell_type": "code",
      "execution_count": 14,
      "metadata": {
        "id": "0pOCSpJfd94J"
      },
      "outputs": [],
      "source": [
        "import os\n",
        "import shutil\n",
        "import random\n",
        "\n",
        "def get_all_images_recursive(class_path):\n",
        "    images = []\n",
        "    for root, _, files in os.walk(class_path):\n",
        "        for file in files:\n",
        "            if file.lower().endswith(('.jpg', '.jpeg', '.png')):\n",
        "                images.append(os.path.join(root, file))\n",
        "    return images\n",
        "\n",
        "def split_dataset(input_dir, output_dir, train_ratio=0.625, val_ratio=0.25, test_ratio=0.125):\n",
        "    os.makedirs(output_dir, exist_ok=True)\n",
        "    class_names = os.listdir(input_dir)\n",
        "\n",
        "    for class_name in class_names:\n",
        "        class_path = os.path.join(input_dir, class_name)\n",
        "        if not os.path.isdir(class_path):\n",
        "            continue\n",
        "\n",
        "        images = get_all_images_recursive(class_path)\n",
        "        random.shuffle(images)\n",
        "\n",
        "        total = len(images)\n",
        "        train_end = int(train_ratio * total)\n",
        "        val_end = train_end + int(val_ratio * total)\n",
        "\n",
        "        train_imgs = images[:train_end]\n",
        "        val_imgs = images[train_end:val_end]\n",
        "        test_imgs = images[val_end:]\n",
        "\n",
        "        for split_name, split_imgs in zip(['train', 'val', 'test'], [train_imgs, val_imgs, test_imgs]):\n",
        "            split_dir = os.path.join(output_dir, split_name, class_name)\n",
        "            os.makedirs(split_dir, exist_ok=True)\n",
        "\n",
        "            for img_path in split_imgs:\n",
        "                img_name = os.path.basename(img_path)\n",
        "                dst = os.path.join(split_dir, img_name)\n",
        "                shutil.copy2(img_path, dst)\n",
        "\n",
        "# ✅ Update your dataset paths\n",
        "input_dataset_folder = \"/content/unzipped_Iris-Interval/CASIA-Iris-Interval\"\n",
        "output_dataset_folder = \"/content/split_dataset\"\n",
        "\n",
        "# ✅ Run\n",
        "split_dataset(input_dataset_folder, output_dataset_folder)\n"
      ]
    },
    {
      "cell_type": "code",
      "execution_count": null,
      "metadata": {
        "colab": {
          "base_uri": "https://localhost:8080/"
        },
        "id": "y4sA2s4ceNmm",
        "outputId": "e9cf44c4-6f6c-490d-db88-2d180779f8d7"
      },
      "outputs": [
        {
          "output_type": "stream",
          "name": "stdout",
          "text": [
            "Requirement already satisfied: tensorflow in /usr/local/lib/python3.11/dist-packages (2.18.0)\n",
            "Requirement already satisfied: absl-py>=1.0.0 in /usr/local/lib/python3.11/dist-packages (from tensorflow) (1.4.0)\n",
            "Requirement already satisfied: astunparse>=1.6.0 in /usr/local/lib/python3.11/dist-packages (from tensorflow) (1.6.3)\n",
            "Requirement already satisfied: flatbuffers>=24.3.25 in /usr/local/lib/python3.11/dist-packages (from tensorflow) (25.2.10)\n",
            "Requirement already satisfied: gast!=0.5.0,!=0.5.1,!=0.5.2,>=0.2.1 in /usr/local/lib/python3.11/dist-packages (from tensorflow) (0.6.0)\n",
            "Requirement already satisfied: google-pasta>=0.1.1 in /usr/local/lib/python3.11/dist-packages (from tensorflow) (0.2.0)\n",
            "Requirement already satisfied: libclang>=13.0.0 in /usr/local/lib/python3.11/dist-packages (from tensorflow) (18.1.1)\n",
            "Requirement already satisfied: opt-einsum>=2.3.2 in /usr/local/lib/python3.11/dist-packages (from tensorflow) (3.4.0)\n",
            "Requirement already satisfied: packaging in /usr/local/lib/python3.11/dist-packages (from tensorflow) (24.2)\n",
            "Requirement already satisfied: protobuf!=4.21.0,!=4.21.1,!=4.21.2,!=4.21.3,!=4.21.4,!=4.21.5,<6.0.0dev,>=3.20.3 in /usr/local/lib/python3.11/dist-packages (from tensorflow) (3.20.3)\n",
            "Requirement already satisfied: requests<3,>=2.21.0 in /usr/local/lib/python3.11/dist-packages (from tensorflow) (2.32.3)\n",
            "Requirement already satisfied: setuptools in /usr/local/lib/python3.11/dist-packages (from tensorflow) (75.2.0)\n",
            "Requirement already satisfied: six>=1.12.0 in /usr/local/lib/python3.11/dist-packages (from tensorflow) (1.17.0)\n",
            "Requirement already satisfied: termcolor>=1.1.0 in /usr/local/lib/python3.11/dist-packages (from tensorflow) (3.1.0)\n",
            "Requirement already satisfied: typing-extensions>=3.6.6 in /usr/local/lib/python3.11/dist-packages (from tensorflow) (4.14.0)\n",
            "Requirement already satisfied: wrapt>=1.11.0 in /usr/local/lib/python3.11/dist-packages (from tensorflow) (1.17.2)\n",
            "Requirement already satisfied: grpcio<2.0,>=1.24.3 in /usr/local/lib/python3.11/dist-packages (from tensorflow) (1.73.0)\n",
            "Requirement already satisfied: tensorboard<2.19,>=2.18 in /usr/local/lib/python3.11/dist-packages (from tensorflow) (2.18.0)\n",
            "Requirement already satisfied: keras>=3.5.0 in /usr/local/lib/python3.11/dist-packages (from tensorflow) (3.8.0)\n",
            "Requirement already satisfied: numpy<2.1.0,>=1.26.0 in /usr/local/lib/python3.11/dist-packages (from tensorflow) (2.0.2)\n",
            "Requirement already satisfied: h5py>=3.11.0 in /usr/local/lib/python3.11/dist-packages (from tensorflow) (3.14.0)\n",
            "Requirement already satisfied: ml-dtypes<0.5.0,>=0.4.0 in /usr/local/lib/python3.11/dist-packages (from tensorflow) (0.4.1)\n",
            "Requirement already satisfied: tensorflow-io-gcs-filesystem>=0.23.1 in /usr/local/lib/python3.11/dist-packages (from tensorflow) (0.37.1)\n",
            "Requirement already satisfied: wheel<1.0,>=0.23.0 in /usr/local/lib/python3.11/dist-packages (from astunparse>=1.6.0->tensorflow) (0.45.1)\n",
            "Requirement already satisfied: rich in /usr/local/lib/python3.11/dist-packages (from keras>=3.5.0->tensorflow) (13.9.4)\n",
            "Requirement already satisfied: namex in /usr/local/lib/python3.11/dist-packages (from keras>=3.5.0->tensorflow) (0.1.0)\n",
            "Requirement already satisfied: optree in /usr/local/lib/python3.11/dist-packages (from keras>=3.5.0->tensorflow) (0.16.0)\n",
            "Requirement already satisfied: charset-normalizer<4,>=2 in /usr/local/lib/python3.11/dist-packages (from requests<3,>=2.21.0->tensorflow) (3.4.2)\n",
            "Requirement already satisfied: idna<4,>=2.5 in /usr/local/lib/python3.11/dist-packages (from requests<3,>=2.21.0->tensorflow) (3.10)\n",
            "Requirement already satisfied: urllib3<3,>=1.21.1 in /usr/local/lib/python3.11/dist-packages (from requests<3,>=2.21.0->tensorflow) (2.4.0)\n",
            "Requirement already satisfied: certifi>=2017.4.17 in /usr/local/lib/python3.11/dist-packages (from requests<3,>=2.21.0->tensorflow) (2025.6.15)\n",
            "Requirement already satisfied: markdown>=2.6.8 in /usr/local/lib/python3.11/dist-packages (from tensorboard<2.19,>=2.18->tensorflow) (3.8)\n",
            "Requirement already satisfied: tensorboard-data-server<0.8.0,>=0.7.0 in /usr/local/lib/python3.11/dist-packages (from tensorboard<2.19,>=2.18->tensorflow) (0.7.2)\n",
            "Requirement already satisfied: werkzeug>=1.0.1 in /usr/local/lib/python3.11/dist-packages (from tensorboard<2.19,>=2.18->tensorflow) (3.1.3)\n",
            "Requirement already satisfied: MarkupSafe>=2.1.1 in /usr/local/lib/python3.11/dist-packages (from werkzeug>=1.0.1->tensorboard<2.19,>=2.18->tensorflow) (3.0.2)\n",
            "Requirement already satisfied: markdown-it-py>=2.2.0 in /usr/local/lib/python3.11/dist-packages (from rich->keras>=3.5.0->tensorflow) (3.0.0)\n",
            "Requirement already satisfied: pygments<3.0.0,>=2.13.0 in /usr/local/lib/python3.11/dist-packages (from rich->keras>=3.5.0->tensorflow) (2.19.1)\n",
            "Requirement already satisfied: mdurl~=0.1 in /usr/local/lib/python3.11/dist-packages (from markdown-it-py>=2.2.0->rich->keras>=3.5.0->tensorflow) (0.1.2)\n"
          ]
        }
      ],
      "source": [
        "!pip install tensorflow"
      ]
    },
    {
      "cell_type": "code",
      "execution_count": 8,
      "metadata": {
        "id": "9VPv4dg6es9-"
      },
      "outputs": [],
      "source": [
        "from tensorflow.keras.layers import Conv2D, Flatten, Dense, MaxPool2D, BatchNormalization, GlobalAveragePooling2D\n",
        "from tensorflow.keras.applications.resnet50 import preprocess_input, decode_predictions\n",
        "from tensorflow.keras.preprocessing.image import ImageDataGenerator, load_img\n",
        "from tensorflow.keras.applications.resnet50 import ResNet50\n",
        "from tensorflow.keras.preprocessing import image\n",
        "from tensorflow.keras.models import Sequential\n",
        "from tensorflow.keras.models import Model\n",
        "\n",
        "import matplotlib.pyplot as plt\n",
        "import numpy as np"
      ]
    },
    {
      "cell_type": "code",
      "execution_count": 15,
      "metadata": {
        "id": "qp2aNyP-exLm"
      },
      "outputs": [],
      "source": [
        "mg_height, img_width = (224,224)\n",
        "batch_size = 16\n",
        "\n",
        "train_data_dir = r\"/content/split_dataset/train\"\n",
        "valid_data_dir = r\"/content/split_dataset/val\"\n",
        "test_data_dir = r\"/content/split_dataset/test\"\n"
      ]
    },
    {
      "cell_type": "code",
      "execution_count": 16,
      "metadata": {
        "colab": {
          "base_uri": "https://localhost:8080/"
        },
        "id": "QGJoQRk4fCHI",
        "outputId": "9e00dfe3-3a8e-4701-c9b5-7d90bb045f4d"
      },
      "outputs": [
        {
          "output_type": "stream",
          "name": "stdout",
          "text": [
            " Number of training images: 2159\n",
            " Number of validation images: 1002\n",
            " Number of test images: 944\n"
          ]
        }
      ],
      "source": [
        "import os\n",
        "\n",
        "def count_images_in_directory(directory):\n",
        "    total = 0\n",
        "    for root, dirs, files in os.walk(directory):\n",
        "        for file in files:\n",
        "            if file.lower().endswith(('.png', '.jpg', '.jpeg', '.bmp', '.tiff')):\n",
        "                total += 1\n",
        "    return total\n",
        "\n",
        "\n",
        "\n",
        "# Count and print\n",
        "print(f\" Number of training images: {count_images_in_directory(train_data_dir)}\")\n",
        "print(f\" Number of validation images: {count_images_in_directory(valid_data_dir)}\")\n",
        "print(f\" Number of test images: {count_images_in_directory(test_data_dir)}\")\n"
      ]
    },
    {
      "cell_type": "code",
      "execution_count": 17,
      "metadata": {
        "colab": {
          "base_uri": "https://localhost:8080/"
        },
        "id": "ZdbgavDygyp0",
        "outputId": "26b894d1-07b6-4efe-8e63-c57cc3159ba9"
      },
      "outputs": [
        {
          "output_type": "stream",
          "name": "stdout",
          "text": [
            "Found 2159 images belonging to 240 classes.\n",
            "Found 1002 images belonging to 240 classes.\n"
          ]
        }
      ],
      "source": [
        "train_datagen = ImageDataGenerator(dtype = 'float32', preprocessing_function=preprocess_input)\n",
        "valid_datagen = ImageDataGenerator(dtype = 'float32', preprocessing_function=preprocess_input)\n",
        "\n",
        "train_generator = train_datagen.flow_from_directory(\n",
        "    train_data_dir,\n",
        "    target_size=(256, 256),\n",
        "    batch_size=16,\n",
        "    class_mode='categorical') # set as training data\n",
        "\n",
        "valid_generator = valid_datagen.flow_from_directory(\n",
        "    valid_data_dir,\n",
        "    target_size=(256, 256),\n",
        "    batch_size=16,\n",
        "    class_mode='categorical') # set as validation data"
      ]
    },
    {
      "cell_type": "code",
      "execution_count": 18,
      "metadata": {
        "colab": {
          "base_uri": "https://localhost:8080/"
        },
        "id": "e8jRXKa8f2PZ",
        "outputId": "5dc2bc0d-9aca-4566-fb1a-7f739c9f88cc"
      },
      "outputs": [
        {
          "output_type": "stream",
          "name": "stdout",
          "text": [
            "Found 944 images belonging to 240 classes.\n"
          ]
        }
      ],
      "source": [
        "from tensorflow.keras.preprocessing.image import ImageDataGenerator\n",
        "from tensorflow.keras.applications.resnet50 import preprocess_input  # or use VGG16's preprocess_input\n",
        "\n",
        "# Define test image data generator\n",
        "test_datagen = ImageDataGenerator(\n",
        "    preprocessing_function=preprocess_input\n",
        ")\n",
        "\n",
        "# Then use it here\n",
        "test_generator = test_datagen.flow_from_directory(\n",
        "    \"/content/split_dataset/test\",\n",
        "    target_size=(256, 256),\n",
        "    batch_size=16,\n",
        "    class_mode='categorical',\n",
        "    shuffle=False\n",
        ")"
      ]
    },
    {
      "cell_type": "code",
      "execution_count": 19,
      "metadata": {
        "colab": {
          "base_uri": "https://localhost:8080/"
        },
        "id": "4k7WVbwvfJhJ",
        "outputId": "ee0ae163-704e-4686-a9d1-54385828ed59"
      },
      "outputs": [
        {
          "output_type": "execute_result",
          "data": {
            "text/plain": [
              "(16, 256, 256, 3)"
            ]
          },
          "metadata": {},
          "execution_count": 19
        }
      ],
      "source": [
        "x, y = next(test_generator)\n",
        "x.shape"
      ]
    },
    {
      "cell_type": "code",
      "source": [
        "from tensorflow.keras.optimizers import Adam\n",
        "from tensorflow.keras.applications import ResNet50\n",
        "from tensorflow.keras.layers import GlobalAveragePooling2D, Dense, Dropout, BatchNormalization\n",
        "from tensorflow.keras.models import Model\n",
        "from tensorflow.keras.callbacks import EarlyStopping, ModelCheckpoint\n",
        "\n",
        "# Load ResNet50 with ImageNet weights, excluding top layer\n",
        "base_model = ResNet50(include_top=False, weights='imagenet')\n",
        "\n",
        "# Build custom classifier\n",
        "x = base_model.output\n",
        "x = GlobalAveragePooling2D()(x)\n",
        "x = BatchNormalization()(x)\n",
        "x = Dense(1024, activation='relu')(x)\n",
        "x = Dropout(0.4)(x)\n",
        "predictions = Dense(train_generator.num_classes, activation='softmax')(x)\n",
        "\n",
        "# Create model\n",
        "model = Model(inputs=base_model.input, outputs=predictions)\n",
        "\n",
        "# Freeze all base model layers for initial training\n",
        "for layer in base_model.layers:\n",
        "    layer.trainable = False\n",
        "\n",
        "# Compile model for initial training\n",
        "custom_optimizer = Adam(learning_rate=0.0002)\n",
        "model.compile(optimizer=custom_optimizer, loss='categorical_crossentropy', metrics=['accuracy'])\n",
        "\n",
        "# Define callbacks\n",
        "early_stopping = EarlyStopping(monitor='val_loss', patience=5, restore_best_weights=True)\n",
        "checkpoint = ModelCheckpoint('best_model_initial.h5', monitor='val_accuracy', save_best_only=True)\n",
        "\n",
        "# Initial training\n",
        "history = model.fit(\n",
        "    train_generator,\n",
        "    validation_data=valid_generator,\n",
        "    epochs=20,  # Initial training epochs\n",
        "    callbacks=[early_stopping, checkpoint]\n",
        ")\n",
        "\n",
        "# Unfreeze selective layers for fine-tuning (last 10 layers, roughly conv5_x block)\n",
        "for layer in base_model.layers[-10:]:\n",
        "    layer.trainable = True\n",
        "\n",
        "# Recompile model with lower learning rate for fine-tuning\n",
        "model.compile(optimizer=Adam(learning_rate=1e-5), loss='categorical_crossentropy', metrics=['accuracy'])\n",
        "\n",
        "# Define callbacks for fine-tuning\n",
        "checkpoint_finetune = ModelCheckpoint('best_model_finetuned.h5', monitor='val_accuracy', save_best_only=True)\n",
        "\n",
        "# Fine-tuning training\n",
        "history_finetune = model.fit(\n",
        "    train_generator,\n",
        "    validation_data=valid_generator,\n",
        "    epochs=10,  # Fewer epochs for fine-tuning\n",
        "    callbacks=[early_stopping, checkpoint_finetune]\n",
        ")"
      ],
      "metadata": {
        "colab": {
          "base_uri": "https://localhost:8080/"
        },
        "id": "Huj6LzweKAsL",
        "outputId": "0fdba1d3-43c5-48cc-9893-6591a711e459"
      },
      "execution_count": 20,
      "outputs": [
        {
          "output_type": "stream",
          "name": "stdout",
          "text": [
            "Downloading data from https://storage.googleapis.com/tensorflow/keras-applications/resnet/resnet50_weights_tf_dim_ordering_tf_kernels_notop.h5\n",
            "\u001b[1m94765736/94765736\u001b[0m \u001b[32m━━━━━━━━━━━━━━━━━━━━\u001b[0m\u001b[37m\u001b[0m \u001b[1m0s\u001b[0m 0us/step\n",
            "Epoch 1/20\n"
          ]
        },
        {
          "output_type": "stream",
          "name": "stderr",
          "text": [
            "/usr/local/lib/python3.11/dist-packages/keras/src/trainers/data_adapters/py_dataset_adapter.py:121: UserWarning: Your `PyDataset` class should call `super().__init__(**kwargs)` in its constructor. `**kwargs` can include `workers`, `use_multiprocessing`, `max_queue_size`. Do not pass these arguments to `fit()`, as they will be ignored.\n",
            "  self._warn_if_super_not_called()\n"
          ]
        },
        {
          "output_type": "stream",
          "name": "stdout",
          "text": [
            "\u001b[1m135/135\u001b[0m \u001b[32m━━━━━━━━━━━━━━━━━━━━\u001b[0m\u001b[37m\u001b[0m \u001b[1m0s\u001b[0m 91ms/step - accuracy: 0.1397 - loss: 4.9628"
          ]
        },
        {
          "output_type": "stream",
          "name": "stderr",
          "text": [
            "WARNING:absl:You are saving your model as an HDF5 file via `model.save()` or `keras.saving.save_model(model)`. This file format is considered legacy. We recommend using instead the native Keras format, e.g. `model.save('my_model.keras')` or `keras.saving.save_model(model, 'my_model.keras')`. \n"
          ]
        },
        {
          "output_type": "stream",
          "name": "stdout",
          "text": [
            "\b\b\b\b\b\b\b\b\b\b\b\b\b\b\b\b\b\b\b\b\b\b\b\b\b\b\b\b\b\b\b\b\b\b\b\b\b\b\b\b\b\b\b\b\b\b\b\b\b\b\b\b\b\b\b\b\b\b\b\b\b\b\b\b\b\b\b\b\b\b\b\b\b\b\b\r\u001b[1m135/135\u001b[0m \u001b[32m━━━━━━━━━━━━━━━━━━━━\u001b[0m\u001b[37m\u001b[0m \u001b[1m39s\u001b[0m 179ms/step - accuracy: 0.1408 - loss: 4.9545 - val_accuracy: 0.7735 - val_loss: 2.3699\n",
            "Epoch 2/20\n",
            "\u001b[1m135/135\u001b[0m \u001b[32m━━━━━━━━━━━━━━━━━━━━\u001b[0m\u001b[37m\u001b[0m \u001b[1m0s\u001b[0m 60ms/step - accuracy: 0.8330 - loss: 1.0256"
          ]
        },
        {
          "output_type": "stream",
          "name": "stderr",
          "text": [
            "WARNING:absl:You are saving your model as an HDF5 file via `model.save()` or `keras.saving.save_model(model)`. This file format is considered legacy. We recommend using instead the native Keras format, e.g. `model.save('my_model.keras')` or `keras.saving.save_model(model, 'my_model.keras')`. \n"
          ]
        },
        {
          "output_type": "stream",
          "name": "stdout",
          "text": [
            "\b\b\b\b\b\b\b\b\b\b\b\b\b\b\b\b\b\b\b\b\b\b\b\b\b\b\b\b\b\b\b\b\b\b\b\b\b\b\b\b\b\b\b\b\b\b\b\b\b\b\b\b\b\b\b\b\b\b\b\b\b\b\b\b\b\b\b\b\b\b\b\b\b\b\b\r\u001b[1m135/135\u001b[0m \u001b[32m━━━━━━━━━━━━━━━━━━━━\u001b[0m\u001b[37m\u001b[0m \u001b[1m12s\u001b[0m 89ms/step - accuracy: 0.8332 - loss: 1.0245 - val_accuracy: 0.9541 - val_loss: 0.6498\n",
            "Epoch 3/20\n",
            "\u001b[1m135/135\u001b[0m \u001b[32m━━━━━━━━━━━━━━━━━━━━\u001b[0m\u001b[37m\u001b[0m \u001b[1m0s\u001b[0m 61ms/step - accuracy: 0.9649 - loss: 0.3297"
          ]
        },
        {
          "output_type": "stream",
          "name": "stderr",
          "text": [
            "WARNING:absl:You are saving your model as an HDF5 file via `model.save()` or `keras.saving.save_model(model)`. This file format is considered legacy. We recommend using instead the native Keras format, e.g. `model.save('my_model.keras')` or `keras.saving.save_model(model, 'my_model.keras')`. \n"
          ]
        },
        {
          "output_type": "stream",
          "name": "stdout",
          "text": [
            "\b\b\b\b\b\b\b\b\b\b\b\b\b\b\b\b\b\b\b\b\b\b\b\b\b\b\b\b\b\b\b\b\b\b\b\b\b\b\b\b\b\b\b\b\b\b\b\b\b\b\b\b\b\b\b\b\b\b\b\b\b\b\b\b\b\b\b\b\b\b\b\b\b\b\b\r\u001b[1m135/135\u001b[0m \u001b[32m━━━━━━━━━━━━━━━━━━━━\u001b[0m\u001b[37m\u001b[0m \u001b[1m12s\u001b[0m 90ms/step - accuracy: 0.9649 - loss: 0.3294 - val_accuracy: 0.9681 - val_loss: 0.2498\n",
            "Epoch 4/20\n",
            "\u001b[1m135/135\u001b[0m \u001b[32m━━━━━━━━━━━━━━━━━━━━\u001b[0m\u001b[37m\u001b[0m \u001b[1m0s\u001b[0m 58ms/step - accuracy: 0.9919 - loss: 0.1503"
          ]
        },
        {
          "output_type": "stream",
          "name": "stderr",
          "text": [
            "WARNING:absl:You are saving your model as an HDF5 file via `model.save()` or `keras.saving.save_model(model)`. This file format is considered legacy. We recommend using instead the native Keras format, e.g. `model.save('my_model.keras')` or `keras.saving.save_model(model, 'my_model.keras')`. \n"
          ]
        },
        {
          "output_type": "stream",
          "name": "stdout",
          "text": [
            "\b\b\b\b\b\b\b\b\b\b\b\b\b\b\b\b\b\b\b\b\b\b\b\b\b\b\b\b\b\b\b\b\b\b\b\b\b\b\b\b\b\b\b\b\b\b\b\b\b\b\b\b\b\b\b\b\b\b\b\b\b\b\b\b\b\b\b\b\b\b\b\b\b\b\b\r\u001b[1m135/135\u001b[0m \u001b[32m━━━━━━━━━━━━━━━━━━━━\u001b[0m\u001b[37m\u001b[0m \u001b[1m12s\u001b[0m 90ms/step - accuracy: 0.9919 - loss: 0.1502 - val_accuracy: 0.9731 - val_loss: 0.1595\n",
            "Epoch 5/20\n",
            "\u001b[1m135/135\u001b[0m \u001b[32m━━━━━━━━━━━━━━━━━━━━\u001b[0m\u001b[37m\u001b[0m \u001b[1m13s\u001b[0m 95ms/step - accuracy: 0.9954 - loss: 0.0805 - val_accuracy: 0.9721 - val_loss: 0.1321\n",
            "Epoch 6/20\n",
            "\u001b[1m135/135\u001b[0m \u001b[32m━━━━━━━━━━━━━━━━━━━━\u001b[0m\u001b[37m\u001b[0m \u001b[1m0s\u001b[0m 55ms/step - accuracy: 0.9975 - loss: 0.0545"
          ]
        },
        {
          "output_type": "stream",
          "name": "stderr",
          "text": [
            "WARNING:absl:You are saving your model as an HDF5 file via `model.save()` or `keras.saving.save_model(model)`. This file format is considered legacy. We recommend using instead the native Keras format, e.g. `model.save('my_model.keras')` or `keras.saving.save_model(model, 'my_model.keras')`. \n"
          ]
        },
        {
          "output_type": "stream",
          "name": "stdout",
          "text": [
            "\b\b\b\b\b\b\b\b\b\b\b\b\b\b\b\b\b\b\b\b\b\b\b\b\b\b\b\b\b\b\b\b\b\b\b\b\b\b\b\b\b\b\b\b\b\b\b\b\b\b\b\b\b\b\b\b\b\b\b\b\b\b\b\b\b\b\b\b\b\b\b\b\b\b\b\r\u001b[1m135/135\u001b[0m \u001b[32m━━━━━━━━━━━━━━━━━━━━\u001b[0m\u001b[37m\u001b[0m \u001b[1m12s\u001b[0m 90ms/step - accuracy: 0.9975 - loss: 0.0545 - val_accuracy: 0.9780 - val_loss: 0.1195\n",
            "Epoch 7/20\n",
            "\u001b[1m135/135\u001b[0m \u001b[32m━━━━━━━━━━━━━━━━━━━━\u001b[0m\u001b[37m\u001b[0m \u001b[1m11s\u001b[0m 83ms/step - accuracy: 0.9994 - loss: 0.0369 - val_accuracy: 0.9760 - val_loss: 0.1107\n",
            "Epoch 8/20\n",
            "\u001b[1m135/135\u001b[0m \u001b[32m━━━━━━━━━━━━━━━━━━━━\u001b[0m\u001b[37m\u001b[0m \u001b[1m21s\u001b[0m 88ms/step - accuracy: 1.0000 - loss: 0.0283 - val_accuracy: 0.9760 - val_loss: 0.1063\n",
            "Epoch 9/20\n",
            "\u001b[1m135/135\u001b[0m \u001b[32m━━━━━━━━━━━━━━━━━━━━\u001b[0m\u001b[37m\u001b[0m \u001b[1m12s\u001b[0m 87ms/step - accuracy: 0.9986 - loss: 0.0216 - val_accuracy: 0.9760 - val_loss: 0.1004\n",
            "Epoch 10/20\n",
            "\u001b[1m135/135\u001b[0m \u001b[32m━━━━━━━━━━━━━━━━━━━━\u001b[0m\u001b[37m\u001b[0m \u001b[1m0s\u001b[0m 58ms/step - accuracy: 1.0000 - loss: 0.0161"
          ]
        },
        {
          "output_type": "stream",
          "name": "stderr",
          "text": [
            "WARNING:absl:You are saving your model as an HDF5 file via `model.save()` or `keras.saving.save_model(model)`. This file format is considered legacy. We recommend using instead the native Keras format, e.g. `model.save('my_model.keras')` or `keras.saving.save_model(model, 'my_model.keras')`. \n"
          ]
        },
        {
          "output_type": "stream",
          "name": "stdout",
          "text": [
            "\b\b\b\b\b\b\b\b\b\b\b\b\b\b\b\b\b\b\b\b\b\b\b\b\b\b\b\b\b\b\b\b\b\b\b\b\b\b\b\b\b\b\b\b\b\b\b\b\b\b\b\b\b\b\b\b\b\b\b\b\b\b\b\b\b\b\b\b\b\b\b\b\b\b\b\r\u001b[1m135/135\u001b[0m \u001b[32m━━━━━━━━━━━━━━━━━━━━\u001b[0m\u001b[37m\u001b[0m \u001b[1m12s\u001b[0m 91ms/step - accuracy: 1.0000 - loss: 0.0161 - val_accuracy: 0.9790 - val_loss: 0.0956\n",
            "Epoch 11/20\n",
            "\u001b[1m135/135\u001b[0m \u001b[32m━━━━━━━━━━━━━━━━━━━━\u001b[0m\u001b[37m\u001b[0m \u001b[1m0s\u001b[0m 56ms/step - accuracy: 1.0000 - loss: 0.0146"
          ]
        },
        {
          "output_type": "stream",
          "name": "stderr",
          "text": [
            "WARNING:absl:You are saving your model as an HDF5 file via `model.save()` or `keras.saving.save_model(model)`. This file format is considered legacy. We recommend using instead the native Keras format, e.g. `model.save('my_model.keras')` or `keras.saving.save_model(model, 'my_model.keras')`. \n"
          ]
        },
        {
          "output_type": "stream",
          "name": "stdout",
          "text": [
            "\b\b\b\b\b\b\b\b\b\b\b\b\b\b\b\b\b\b\b\b\b\b\b\b\b\b\b\b\b\b\b\b\b\b\b\b\b\b\b\b\b\b\b\b\b\b\b\b\b\b\b\b\b\b\b\b\b\b\b\b\b\b\b\b\b\b\b\b\b\b\b\b\b\b\b\r\u001b[1m135/135\u001b[0m \u001b[32m━━━━━━━━━━━━━━━━━━━━\u001b[0m\u001b[37m\u001b[0m \u001b[1m12s\u001b[0m 91ms/step - accuracy: 1.0000 - loss: 0.0146 - val_accuracy: 0.9800 - val_loss: 0.0931\n",
            "Epoch 12/20\n",
            "\u001b[1m135/135\u001b[0m \u001b[32m━━━━━━━━━━━━━━━━━━━━\u001b[0m\u001b[37m\u001b[0m \u001b[1m20s\u001b[0m 88ms/step - accuracy: 0.9992 - loss: 0.0135 - val_accuracy: 0.9800 - val_loss: 0.0928\n",
            "Epoch 13/20\n",
            "\u001b[1m135/135\u001b[0m \u001b[32m━━━━━━━━━━━━━━━━━━━━\u001b[0m\u001b[37m\u001b[0m \u001b[1m12s\u001b[0m 86ms/step - accuracy: 1.0000 - loss: 0.0104 - val_accuracy: 0.9790 - val_loss: 0.0940\n",
            "Epoch 14/20\n",
            "\u001b[1m135/135\u001b[0m \u001b[32m━━━━━━━━━━━━━━━━━━━━\u001b[0m\u001b[37m\u001b[0m \u001b[1m0s\u001b[0m 57ms/step - accuracy: 1.0000 - loss: 0.0086"
          ]
        },
        {
          "output_type": "stream",
          "name": "stderr",
          "text": [
            "WARNING:absl:You are saving your model as an HDF5 file via `model.save()` or `keras.saving.save_model(model)`. This file format is considered legacy. We recommend using instead the native Keras format, e.g. `model.save('my_model.keras')` or `keras.saving.save_model(model, 'my_model.keras')`. \n"
          ]
        },
        {
          "output_type": "stream",
          "name": "stdout",
          "text": [
            "\b\b\b\b\b\b\b\b\b\b\b\b\b\b\b\b\b\b\b\b\b\b\b\b\b\b\b\b\b\b\b\b\b\b\b\b\b\b\b\b\b\b\b\b\b\b\b\b\b\b\b\b\b\b\b\b\b\b\b\b\b\b\b\b\b\b\b\b\b\b\b\b\b\b\b\r\u001b[1m135/135\u001b[0m \u001b[32m━━━━━━━━━━━━━━━━━━━━\u001b[0m\u001b[37m\u001b[0m \u001b[1m22s\u001b[0m 100ms/step - accuracy: 1.0000 - loss: 0.0086 - val_accuracy: 0.9810 - val_loss: 0.0890\n",
            "Epoch 15/20\n",
            "\u001b[1m135/135\u001b[0m \u001b[32m━━━━━━━━━━━━━━━━━━━━\u001b[0m\u001b[37m\u001b[0m \u001b[1m0s\u001b[0m 57ms/step - accuracy: 1.0000 - loss: 0.0088"
          ]
        },
        {
          "output_type": "stream",
          "name": "stderr",
          "text": [
            "WARNING:absl:You are saving your model as an HDF5 file via `model.save()` or `keras.saving.save_model(model)`. This file format is considered legacy. We recommend using instead the native Keras format, e.g. `model.save('my_model.keras')` or `keras.saving.save_model(model, 'my_model.keras')`. \n"
          ]
        },
        {
          "output_type": "stream",
          "name": "stdout",
          "text": [
            "\b\b\b\b\b\b\b\b\b\b\b\b\b\b\b\b\b\b\b\b\b\b\b\b\b\b\b\b\b\b\b\b\b\b\b\b\b\b\b\b\b\b\b\b\b\b\b\b\b\b\b\b\b\b\b\b\b\b\b\b\b\b\b\b\b\b\b\b\b\b\b\b\b\b\b\r\u001b[1m135/135\u001b[0m \u001b[32m━━━━━━━━━━━━━━━━━━━━\u001b[0m\u001b[37m\u001b[0m \u001b[1m12s\u001b[0m 92ms/step - accuracy: 1.0000 - loss: 0.0088 - val_accuracy: 0.9830 - val_loss: 0.0849\n",
            "Epoch 16/20\n",
            "\u001b[1m135/135\u001b[0m \u001b[32m━━━━━━━━━━━━━━━━━━━━\u001b[0m\u001b[37m\u001b[0m \u001b[1m20s\u001b[0m 86ms/step - accuracy: 1.0000 - loss: 0.0062 - val_accuracy: 0.9820 - val_loss: 0.0852\n",
            "Epoch 17/20\n",
            "\u001b[1m135/135\u001b[0m \u001b[32m━━━━━━━━━━━━━━━━━━━━\u001b[0m\u001b[37m\u001b[0m \u001b[1m20s\u001b[0m 86ms/step - accuracy: 1.0000 - loss: 0.0059 - val_accuracy: 0.9800 - val_loss: 0.0855\n",
            "Epoch 18/20\n",
            "\u001b[1m135/135\u001b[0m \u001b[32m━━━━━━━━━━━━━━━━━━━━\u001b[0m\u001b[37m\u001b[0m \u001b[1m13s\u001b[0m 96ms/step - accuracy: 1.0000 - loss: 0.0049 - val_accuracy: 0.9810 - val_loss: 0.0852\n",
            "Epoch 19/20\n",
            "\u001b[1m135/135\u001b[0m \u001b[32m━━━━━━━━━━━━━━━━━━━━\u001b[0m\u001b[37m\u001b[0m \u001b[1m13s\u001b[0m 96ms/step - accuracy: 1.0000 - loss: 0.0047 - val_accuracy: 0.9810 - val_loss: 0.0833\n",
            "Epoch 20/20\n",
            "\u001b[1m135/135\u001b[0m \u001b[32m━━━━━━━━━━━━━━━━━━━━\u001b[0m\u001b[37m\u001b[0m \u001b[1m13s\u001b[0m 95ms/step - accuracy: 1.0000 - loss: 0.0045 - val_accuracy: 0.9810 - val_loss: 0.0838\n",
            "Epoch 1/10\n",
            "\u001b[1m135/135\u001b[0m \u001b[32m━━━━━━━━━━━━━━━━━━━━\u001b[0m\u001b[37m\u001b[0m \u001b[1m0s\u001b[0m 109ms/step - accuracy: 0.9976 - loss: 0.0300"
          ]
        },
        {
          "output_type": "stream",
          "name": "stderr",
          "text": [
            "WARNING:absl:You are saving your model as an HDF5 file via `model.save()` or `keras.saving.save_model(model)`. This file format is considered legacy. We recommend using instead the native Keras format, e.g. `model.save('my_model.keras')` or `keras.saving.save_model(model, 'my_model.keras')`. \n"
          ]
        },
        {
          "output_type": "stream",
          "name": "stdout",
          "text": [
            "\b\b\b\b\b\b\b\b\b\b\b\b\b\b\b\b\b\b\b\b\b\b\b\b\b\b\b\b\b\b\b\b\b\b\b\b\b\b\b\b\b\b\b\b\b\b\b\b\b\b\b\b\b\b\b\b\b\b\b\b\b\b\b\b\b\b\b\b\b\b\b\b\b\b\b\b\r\u001b[1m135/135\u001b[0m \u001b[32m━━━━━━━━━━━━━━━━━━━━\u001b[0m\u001b[37m\u001b[0m \u001b[1m40s\u001b[0m 188ms/step - accuracy: 0.9976 - loss: 0.0300 - val_accuracy: 0.9800 - val_loss: 0.0894\n",
            "Epoch 2/10\n",
            "\u001b[1m135/135\u001b[0m \u001b[32m━━━━━━━━━━━━━━━━━━━━\u001b[0m\u001b[37m\u001b[0m \u001b[1m0s\u001b[0m 68ms/step - accuracy: 1.0000 - loss: 0.0203"
          ]
        },
        {
          "output_type": "stream",
          "name": "stderr",
          "text": [
            "WARNING:absl:You are saving your model as an HDF5 file via `model.save()` or `keras.saving.save_model(model)`. This file format is considered legacy. We recommend using instead the native Keras format, e.g. `model.save('my_model.keras')` or `keras.saving.save_model(model, 'my_model.keras')`. \n"
          ]
        },
        {
          "output_type": "stream",
          "name": "stdout",
          "text": [
            "\b\b\b\b\b\b\b\b\b\b\b\b\b\b\b\b\b\b\b\b\b\b\b\b\b\b\b\b\b\b\b\b\b\b\b\b\b\b\b\b\b\b\b\b\b\b\b\b\b\b\b\b\b\b\b\b\b\b\b\b\b\b\b\b\b\b\b\b\b\b\b\b\b\b\b\r\u001b[1m135/135\u001b[0m \u001b[32m━━━━━━━━━━━━━━━━━━━━\u001b[0m\u001b[37m\u001b[0m \u001b[1m23s\u001b[0m 101ms/step - accuracy: 1.0000 - loss: 0.0203 - val_accuracy: 0.9810 - val_loss: 0.0890\n",
            "Epoch 3/10\n",
            "\u001b[1m135/135\u001b[0m \u001b[32m━━━━━━━━━━━━━━━━━━━━\u001b[0m\u001b[37m\u001b[0m \u001b[1m20s\u001b[0m 95ms/step - accuracy: 0.9996 - loss: 0.0140 - val_accuracy: 0.9810 - val_loss: 0.0873\n",
            "Epoch 4/10\n",
            "\u001b[1m135/135\u001b[0m \u001b[32m━━━━━━━━━━━━━━━━━━━━\u001b[0m\u001b[37m\u001b[0m \u001b[1m14s\u001b[0m 106ms/step - accuracy: 1.0000 - loss: 0.0103 - val_accuracy: 0.9810 - val_loss: 0.0859\n",
            "Epoch 5/10\n",
            "\u001b[1m135/135\u001b[0m \u001b[32m━━━━━━━━━━━━━━━━━━━━\u001b[0m\u001b[37m\u001b[0m \u001b[1m0s\u001b[0m 67ms/step - accuracy: 1.0000 - loss: 0.0095"
          ]
        },
        {
          "output_type": "stream",
          "name": "stderr",
          "text": [
            "WARNING:absl:You are saving your model as an HDF5 file via `model.save()` or `keras.saving.save_model(model)`. This file format is considered legacy. We recommend using instead the native Keras format, e.g. `model.save('my_model.keras')` or `keras.saving.save_model(model, 'my_model.keras')`. \n"
          ]
        },
        {
          "output_type": "stream",
          "name": "stdout",
          "text": [
            "\b\b\b\b\b\b\b\b\b\b\b\b\b\b\b\b\b\b\b\b\b\b\b\b\b\b\b\b\b\b\b\b\b\b\b\b\b\b\b\b\b\b\b\b\b\b\b\b\b\b\b\b\b\b\b\b\b\b\b\b\b\b\b\b\b\b\b\b\b\b\b\b\b\b\b\r\u001b[1m135/135\u001b[0m \u001b[32m━━━━━━━━━━━━━━━━━━━━\u001b[0m\u001b[37m\u001b[0m \u001b[1m13s\u001b[0m 99ms/step - accuracy: 1.0000 - loss: 0.0095 - val_accuracy: 0.9820 - val_loss: 0.0827\n",
            "Epoch 6/10\n",
            "\u001b[1m135/135\u001b[0m \u001b[32m━━━━━━━━━━━━━━━━━━━━\u001b[0m\u001b[37m\u001b[0m \u001b[1m20s\u001b[0m 93ms/step - accuracy: 1.0000 - loss: 0.0070 - val_accuracy: 0.9810 - val_loss: 0.0815\n",
            "Epoch 7/10\n",
            "\u001b[1m135/135\u001b[0m \u001b[32m━━━━━━━━━━━━━━━━━━━━\u001b[0m\u001b[37m\u001b[0m \u001b[1m13s\u001b[0m 95ms/step - accuracy: 1.0000 - loss: 0.0078 - val_accuracy: 0.9810 - val_loss: 0.0804\n",
            "Epoch 8/10\n",
            "\u001b[1m135/135\u001b[0m \u001b[32m━━━━━━━━━━━━━━━━━━━━\u001b[0m\u001b[37m\u001b[0m \u001b[1m13s\u001b[0m 94ms/step - accuracy: 1.0000 - loss: 0.0061 - val_accuracy: 0.9810 - val_loss: 0.0794\n",
            "Epoch 9/10\n",
            "\u001b[1m135/135\u001b[0m \u001b[32m━━━━━━━━━━━━━━━━━━━━\u001b[0m\u001b[37m\u001b[0m \u001b[1m13s\u001b[0m 94ms/step - accuracy: 1.0000 - loss: 0.0057 - val_accuracy: 0.9810 - val_loss: 0.0791\n",
            "Epoch 10/10\n",
            "\u001b[1m135/135\u001b[0m \u001b[32m━━━━━━━━━━━━━━━━━━━━\u001b[0m\u001b[37m\u001b[0m \u001b[1m13s\u001b[0m 94ms/step - accuracy: 1.0000 - loss: 0.0050 - val_accuracy: 0.9800 - val_loss: 0.0768\n"
          ]
        }
      ]
    },
    {
      "cell_type": "code",
      "execution_count": 21,
      "metadata": {
        "colab": {
          "base_uri": "https://localhost:8080/"
        },
        "id": "QSpxuL4bG0Y2",
        "outputId": "3103795f-99f5-4019-b02b-507847620121"
      },
      "outputs": [
        {
          "output_type": "stream",
          "name": "stdout",
          "text": [
            "59/59 - 3s - 54ms/step - accuracy: 0.9693 - loss: 0.1530\n",
            "\n",
            "Test accuracy: 0.9692796468734741\n"
          ]
        }
      ],
      "source": [
        "test_loss, test_acc = model.evaluate(test_generator, verbose=2)\n",
        "print(\"\\nTest accuracy:\", test_acc)"
      ]
    },
    {
      "cell_type": "code",
      "execution_count": 22,
      "metadata": {
        "id": "usqQvsbYHCY4"
      },
      "outputs": [],
      "source": [
        "!mkdir -p /content/drive/MyDrive/Iris_Model1"
      ]
    },
    {
      "cell_type": "code",
      "execution_count": 23,
      "metadata": {
        "colab": {
          "base_uri": "https://localhost:8080/"
        },
        "id": "fXtW1KUvHIXA",
        "outputId": "37e1c4c4-5f00-44a0-daad-ebbeaf2034dc"
      },
      "outputs": [
        {
          "output_type": "stream",
          "name": "stderr",
          "text": [
            "WARNING:absl:You are saving your model as an HDF5 file via `model.save()` or `keras.saving.save_model(model)`. This file format is considered legacy. We recommend using instead the native Keras format, e.g. `model.save('my_model.keras')` or `keras.saving.save_model(model, 'my_model.keras')`. \n"
          ]
        }
      ],
      "source": [
        "model.save('/content/drive/MyDrive/Iris_Model1/ResNet50_Iris3.h5')"
      ]
    },
    {
      "cell_type": "code",
      "source": [
        "import tensorflow as tf\n",
        "from tensorflow.keras.preprocessing.image import ImageDataGenerator\n",
        "from tensorflow.keras.applications.resnet50 import preprocess_input\n",
        "from tensorflow.keras.models import load_model\n",
        "import matplotlib.pyplot as plt\n",
        "import numpy as np\n",
        "from sklearn.metrics import confusion_matrix, classification_report, precision_score, f1_score, recall_score\n",
        "import seaborn as sns\n",
        "from tqdm import tqdm\n",
        "import os\n",
        "import datetime\n",
        "\n",
        "def evaluate_model(model_path, test_dir, target_size=(256, 256), output_dir=\"evaluation_results\"):\n",
        "    \"\"\"\n",
        "    Evaluate a trained model on test data with comprehensive metrics and visualizations.\n",
        "    Includes detailed debugging for confusion matrix issues.\n",
        "    \"\"\"\n",
        "    try:\n",
        "        # Create output directory\n",
        "        if not os.path.exists(output_dir):\n",
        "            os.makedirs(output_dir)\n",
        "\n",
        "        # Load model\n",
        "        try:\n",
        "            model = load_model(model_path)\n",
        "            print(\"Model loaded successfully\")\n",
        "        except Exception as e:\n",
        "            print(f\"Error loading model: {str(e)}\")\n",
        "            return\n",
        "\n",
        "        # Create test data generator with consistent target size\n",
        "        test_datagen = ImageDataGenerator(preprocessing_function=preprocess_input)\n",
        "        test_generator = test_datagen.flow_from_directory(\n",
        "            test_dir,\n",
        "            target_size=target_size,\n",
        "            batch_size=16,\n",
        "            class_mode='categorical',\n",
        "            shuffle=False\n",
        "        )\n",
        "        print(f\"Found {test_generator.samples} images belonging to {len(test_generator.class_indices)} classes.\")\n",
        "\n",
        "        # Create index-to-class mapping\n",
        "        class_indices = test_generator.class_indices\n",
        "        index_to_class = {v: k for k, v in class_indices.items()}\n",
        "        class_labels = list(class_indices.keys())\n",
        "        print(f\"Class indices: {class_indices}\")\n",
        "\n",
        "        # Evaluate model to get a baseline\n",
        "        test_loss, test_acc = model.evaluate(test_generator, verbose=2)\n",
        "        print(f\"\\nTest accuracy: {test_acc:.4f}\")\n",
        "        print(f\"Test loss: {test_loss:.4f}\")\n",
        "\n",
        "        # Make predictions with explicit steps\n",
        "        test_generator.reset()\n",
        "        num_samples = test_generator.samples\n",
        "        predictions = model.predict(test_generator, steps=int(num_samples / test_generator.batch_size), verbose=1)\n",
        "        predicted_classes = np.argmax(predictions[:num_samples], axis=1)  # Ensure length matches\n",
        "        true_classes = test_generator.classes[:num_samples]\n",
        "\n",
        "        # Debugging prints\n",
        "        print(f\"Number of true classes: {len(true_classes)}\")\n",
        "        print(f\"Number of predicted classes: {len(predicted_classes)}\")\n",
        "        print(f\"Sample predictions: {predicted_classes[:10]}\")\n",
        "        print(f\"Sample true classes: {true_classes[:10]}\")\n",
        "        print(f\"Max prediction value: {np.max(predictions)}\")\n",
        "        print(f\"Min prediction value: {np.min(predictions)}\")\n",
        "\n",
        "        # Verify and adjust lengths\n",
        "        if len(true_classes) != len(predicted_classes):\n",
        "            print(f\"Warning: Mismatch in lengths - True: {len(true_classes)}, Predicted: {len(predicted_classes)}\")\n",
        "            min_length = min(len(true_classes), len(predicted_classes))\n",
        "            true_classes = true_classes[:min_length]\n",
        "            predicted_classes = predicted_classes[:min_length]\n",
        "        else:\n",
        "            print(\"Lengths match successfully\")\n",
        "\n",
        "        # Calculate confusion matrix\n",
        "        cm = confusion_matrix(true_classes, predicted_classes)\n",
        "        print(f\"Confusion matrix shape: {cm.shape}\")\n",
        "        print(f\"Confusion matrix content:\\n{cm}\")\n",
        "\n",
        "        # Plot full confusion matrix for first 10 classes\n",
        "        plt.figure(figsize=(12, 10))\n",
        "        sns.heatmap(cm[:10, :10], annot=True, fmt='d', cmap='Blues',  # Limit to 10x10 for readability\n",
        "                    xticklabels=class_labels[:10],\n",
        "                    yticklabels=class_labels[:10])\n",
        "        plt.title('Confusion Matrix (First 10 Classes)')\n",
        "        plt.ylabel('True Label')\n",
        "        plt.xlabel('Predicted Label')\n",
        "        plt.savefig(os.path.join(output_dir, 'confusion_matrix.png'))\n",
        "        plt.close()\n",
        "\n",
        "        macro_precision = precision_score(true_classes, predicted_classes, average=\"macro\", zero_division=0)\n",
        "        macro_recall    = recall_score   (true_classes, predicted_classes, average=\"macro\", zero_division=0)\n",
        "        macro_f1        = f1_score       (true_classes, predicted_classes, average=\"macro\", zero_division=0)\n",
        "\n",
        "        # Calculate and save classification report\n",
        "        print(\"\\nClassification Report:\")\n",
        "        print(classification_report(true_classes, predicted_classes, target_names=class_labels, zero_division=0))\n",
        "        with open(os.path.join(output_dir, 'classification_report.txt'), 'w') as f:\n",
        "            f.write(classification_report(true_classes, predicted_classes, target_names=class_labels, zero_division=0))\n",
        "\n",
        "        # Save overall metrics\n",
        "        accuracy = np.mean(predicted_classes == true_classes)\n",
        "        metrics = {\n",
        "            'test_accuracy': test_acc,\n",
        "            'test_loss': test_loss,\n",
        "            'overall_accuracy': accuracy,\n",
        "            'timestamp': datetime.datetime.now().strftime(\"%Y-%m-%d %H:%M:%S\")\n",
        "        }\n",
        "        with open(os.path.join(output_dir, 'metrics.txt'), 'w') as f:\n",
        "            for key, value in metrics.items():\n",
        "                f.write(f\"{key}: {value}\\n\")\n",
        "\n",
        "        print(f\"\\nOverall Accuracy: {accuracy:.4f}\")\n",
        "        print(f\"Evaluation results saved in {output_dir}\")\n",
        "        print(f\"Macro Precision  : {macro_precision:.4f}\")\n",
        "        print(f\"Macro Recall     : {macro_recall:.4f}\")\n",
        "        print(f\"Macro F1-score   : {macro_f1:.4f}\")\n",
        "\n",
        "    except Exception as e:\n",
        "        print(f\"An unexpected error occurred: {str(e)}\")\n",
        "\n",
        "if __name__ == \"__main__\":\n",
        "    model_path = '/content/drive/MyDrive/Iris_Model1/ResNet50_Iris3.h5'\n",
        "    test_dir = \"/content/split_dataset/test\"\n",
        "    evaluate_model(model_path, test_dir, target_size=(256, 256))"
      ],
      "metadata": {
        "colab": {
          "base_uri": "https://localhost:8080/"
        },
        "id": "eBdFjeRBhK30",
        "outputId": "2b22a84b-630c-4175-a403-b11c06c2364d"
      },
      "execution_count": 26,
      "outputs": [
        {
          "output_type": "stream",
          "name": "stderr",
          "text": [
            "WARNING:absl:Compiled the loaded model, but the compiled metrics have yet to be built. `model.compile_metrics` will be empty until you train or evaluate the model.\n"
          ]
        },
        {
          "output_type": "stream",
          "name": "stdout",
          "text": [
            "Model loaded successfully\n",
            "Found 944 images belonging to 240 classes.\n",
            "Found 944 images belonging to 240 classes.\n",
            "Class indices: {'001': 0, '002': 1, '003': 2, '004': 3, '005': 4, '006': 5, '007': 6, '008': 7, '009': 8, '010': 9, '011': 10, '012': 11, '013': 12, '014': 13, '015': 14, '016': 15, '017': 16, '018': 17, '019': 18, '020': 19, '021': 20, '022': 21, '023': 22, '024': 23, '025': 24, '026': 25, '027': 26, '028': 27, '029': 28, '030': 29, '031': 30, '032': 31, '033': 32, '034': 33, '035': 34, '036': 35, '037': 36, '038': 37, '039': 38, '040': 39, '041': 40, '042': 41, '043': 42, '044': 43, '045': 44, '046': 45, '047': 46, '048': 47, '049': 48, '050': 49, '051': 50, '052': 51, '053': 52, '054': 53, '055': 54, '056': 55, '057': 56, '058': 57, '059': 58, '060': 59, '061': 60, '062': 61, '063': 62, '064': 63, '065': 64, '066': 65, '067': 66, '068': 67, '069': 68, '070': 69, '071': 70, '072': 71, '073': 72, '074': 73, '075': 74, '076': 75, '077': 76, '078': 77, '079': 78, '080': 79, '081': 80, '082': 81, '083': 82, '084': 83, '085': 84, '086': 85, '087': 86, '088': 87, '089': 88, '090': 89, '091': 90, '092': 91, '093': 92, '094': 93, '095': 94, '096': 95, '097': 96, '098': 97, '099': 98, '100': 99, '101': 100, '102': 101, '103': 102, '104': 103, '105': 104, '106': 105, '107': 106, '108': 107, '109': 108, '110': 109, '111': 110, '112': 111, '113': 112, '114': 113, '115': 114, '116': 115, '117': 116, '118': 117, '119': 118, '120': 119, '121': 120, '122': 121, '123': 122, '124': 123, '125': 124, '126': 125, '127': 126, '128': 127, '129': 128, '130': 129, '131': 130, '132': 131, '133': 132, '134': 133, '135': 134, '136': 135, '137': 136, '138': 137, '139': 138, '140': 139, '141': 140, '142': 141, '143': 142, '144': 143, '145': 144, '146': 145, '147': 146, '148': 147, '149': 148, '150': 149, '151': 150, '152': 151, '153': 152, '154': 153, '155': 154, '156': 155, '157': 156, '158': 157, '159': 158, '160': 159, '161': 160, '162': 161, '163': 162, '164': 163, '165': 164, '166': 165, '167': 166, '168': 167, '169': 168, '170': 169, '171': 170, '172': 171, '173': 172, '174': 173, '175': 174, '176': 175, '177': 176, '178': 177, '179': 178, '180': 179, '181': 180, '182': 181, '183': 182, '184': 183, '185': 184, '186': 185, '187': 186, '188': 187, '189': 188, '190': 189, '191': 190, '192': 191, '193': 192, '194': 193, '195': 194, '196': 195, '197': 196, '198': 197, '199': 198, '200': 199, '201': 200, '202': 201, '203': 202, '204': 203, '205': 204, '206': 205, '207': 206, '208': 207, '209': 208, '210': 209, '211': 210, '212': 211, '213': 212, '214': 213, '215': 214, '216': 215, '217': 216, '218': 217, '219': 218, '220': 219, '221': 220, '222': 221, '223': 222, '224': 223, '225': 224, '226': 225, '227': 226, '228': 227, '229': 228, '230': 229, '231': 230, '232': 231, '233': 232, '234': 233, '235': 234, '236': 235, '237': 236, '238': 237, '239': 238, '240': 239}\n"
          ]
        },
        {
          "output_type": "stream",
          "name": "stderr",
          "text": [
            "/usr/local/lib/python3.11/dist-packages/keras/src/trainers/data_adapters/py_dataset_adapter.py:121: UserWarning: Your `PyDataset` class should call `super().__init__(**kwargs)` in its constructor. `**kwargs` can include `workers`, `use_multiprocessing`, `max_queue_size`. Do not pass these arguments to `fit()`, as they will be ignored.\n",
            "  self._warn_if_super_not_called()\n"
          ]
        },
        {
          "output_type": "stream",
          "name": "stdout",
          "text": [
            "59/59 - 8s - 141ms/step - accuracy: 0.9693 - loss: 0.1530\n",
            "\n",
            "Test accuracy: 0.9693\n",
            "Test loss: 0.1530\n",
            "\u001b[1m59/59\u001b[0m \u001b[32m━━━━━━━━━━━━━━━━━━━━\u001b[0m\u001b[37m\u001b[0m \u001b[1m7s\u001b[0m 70ms/step\n",
            "Number of true classes: 944\n",
            "Number of predicted classes: 944\n",
            "Sample predictions: [0 0 0 0 0 0 1 9 1 9]\n",
            "Sample true classes: [0 0 0 0 0 0 1 1 1 1]\n",
            "Max prediction value: 0.9999997615814209\n",
            "Min prediction value: 5.341455939834622e-16\n",
            "Lengths match successfully\n",
            "Confusion matrix shape: (240, 240)\n",
            "Confusion matrix content:\n",
            "[[6 0 0 ... 0 0 0]\n",
            " [0 3 0 ... 0 0 0]\n",
            " [0 0 3 ... 0 0 0]\n",
            " ...\n",
            " [0 0 0 ... 1 0 0]\n",
            " [0 0 0 ... 0 2 0]\n",
            " [0 0 0 ... 0 0 0]]\n",
            "\n",
            "Classification Report:\n",
            "              precision    recall  f1-score   support\n",
            "\n",
            "         001       1.00      1.00      1.00         6\n",
            "         002       1.00      0.60      0.75         5\n",
            "         003       1.00      1.00      1.00         3\n",
            "         004       1.00      1.00      1.00         3\n",
            "         005       1.00      1.00      1.00         2\n",
            "         006       1.00      1.00      1.00         4\n",
            "         007       1.00      1.00      1.00         5\n",
            "         008       1.00      1.00      1.00         8\n",
            "         009       0.80      1.00      0.89         4\n",
            "         010       0.76      1.00      0.86        22\n",
            "         011       0.88      1.00      0.93         7\n",
            "         012       1.00      0.67      0.80         3\n",
            "         013       1.00      1.00      1.00         4\n",
            "         014       1.00      1.00      1.00         2\n",
            "         015       1.00      1.00      1.00         2\n",
            "         016       1.00      1.00      1.00         2\n",
            "         017       1.00      0.50      0.67         2\n",
            "         018       0.67      1.00      0.80         2\n",
            "         019       1.00      1.00      1.00         7\n",
            "         020       1.00      1.00      1.00         6\n",
            "         021       0.80      1.00      0.89         4\n",
            "         022       1.00      1.00      1.00         1\n",
            "         023       1.00      1.00      1.00         1\n",
            "         024       1.00      1.00      1.00         1\n",
            "         025       1.00      1.00      1.00         1\n",
            "         026       1.00      1.00      1.00         2\n",
            "         027       1.00      1.00      1.00         5\n",
            "         028       1.00      0.67      0.80         3\n",
            "         029       0.00      0.00      0.00         2\n",
            "         030       1.00      1.00      1.00         1\n",
            "         031       1.00      1.00      1.00         2\n",
            "         032       1.00      1.00      1.00         2\n",
            "         033       1.00      1.00      1.00         6\n",
            "         034       0.89      1.00      0.94         8\n",
            "         035       1.00      1.00      1.00         3\n",
            "         036       1.00      0.83      0.91         6\n",
            "         037       1.00      1.00      1.00         2\n",
            "         038       1.00      1.00      1.00         3\n",
            "         039       1.00      1.00      1.00         4\n",
            "         040       1.00      1.00      1.00         2\n",
            "         041       1.00      1.00      1.00         2\n",
            "         042       1.00      1.00      1.00         2\n",
            "         043       1.00      1.00      1.00         1\n",
            "         044       1.00      1.00      1.00         8\n",
            "         045       1.00      1.00      1.00         1\n",
            "         046       1.00      1.00      1.00         2\n",
            "         047       1.00      1.00      1.00         2\n",
            "         048       1.00      1.00      1.00         2\n",
            "         049       1.00      1.00      1.00         2\n",
            "         050       1.00      1.00      1.00         2\n",
            "         051       1.00      1.00      1.00         6\n",
            "         052       1.00      1.00      1.00         2\n",
            "         053       1.00      1.00      1.00         2\n",
            "         054       1.00      1.00      1.00         3\n",
            "         055       1.00      1.00      1.00         5\n",
            "         056       1.00      1.00      1.00         5\n",
            "         057       1.00      1.00      1.00         5\n",
            "         058       1.00      1.00      1.00         5\n",
            "         059       1.00      1.00      1.00         4\n",
            "         060       1.00      1.00      1.00         4\n",
            "         061       1.00      1.00      1.00         3\n",
            "         062       1.00      1.00      1.00         5\n",
            "         063       1.00      1.00      1.00         5\n",
            "         064       1.00      1.00      1.00         5\n",
            "         065       1.00      1.00      1.00         6\n",
            "         066       1.00      1.00      1.00         4\n",
            "         067       0.75      0.60      0.67         5\n",
            "         068       1.00      1.00      1.00         3\n",
            "         069       1.00      1.00      1.00         4\n",
            "         070       1.00      1.00      1.00         6\n",
            "         071       1.00      0.75      0.86         4\n",
            "         072       1.00      1.00      1.00         5\n",
            "         073       1.00      1.00      1.00         5\n",
            "         074       1.00      1.00      1.00         5\n",
            "         075       1.00      1.00      1.00         5\n",
            "         076       1.00      0.83      0.91         6\n",
            "         077       1.00      1.00      1.00         3\n",
            "         078       1.00      1.00      1.00         3\n",
            "         079       1.00      1.00      1.00         5\n",
            "         080       1.00      1.00      1.00         5\n",
            "         081       1.00      1.00      1.00         4\n",
            "         082       1.00      1.00      1.00         4\n",
            "         083       1.00      1.00      1.00         6\n",
            "         084       1.00      1.00      1.00         4\n",
            "         085       1.00      1.00      1.00         6\n",
            "         086       0.86      1.00      0.92         6\n",
            "         087       1.00      1.00      1.00         4\n",
            "         088       1.00      1.00      1.00         4\n",
            "         089       1.00      1.00      1.00         4\n",
            "         090       1.00      1.00      1.00         6\n",
            "         091       1.00      1.00      1.00         6\n",
            "         092       1.00      1.00      1.00         6\n",
            "         093       1.00      0.80      0.89         5\n",
            "         094       0.86      1.00      0.92         6\n",
            "         095       1.00      1.00      1.00         6\n",
            "         096       1.00      1.00      1.00         5\n",
            "         097       1.00      1.00      1.00         6\n",
            "         098       1.00      1.00      1.00         5\n",
            "         099       1.00      1.00      1.00         4\n",
            "         100       1.00      1.00      1.00         4\n",
            "         101       1.00      1.00      1.00         6\n",
            "         102       1.00      1.00      1.00         5\n",
            "         103       1.00      1.00      1.00         5\n",
            "         104       1.00      1.00      1.00         6\n",
            "         105       1.00      1.00      1.00         6\n",
            "         106       1.00      1.00      1.00         6\n",
            "         107       1.00      1.00      1.00         5\n",
            "         108       1.00      1.00      1.00         6\n",
            "         109       0.80      0.80      0.80         5\n",
            "         110       1.00      1.00      1.00         6\n",
            "         111       1.00      1.00      1.00         6\n",
            "         112       1.00      1.00      1.00         4\n",
            "         113       0.80      1.00      0.89         4\n",
            "         114       1.00      1.00      1.00         6\n",
            "         115       1.00      1.00      1.00         6\n",
            "         116       1.00      1.00      1.00         6\n",
            "         117       1.00      1.00      1.00         5\n",
            "         118       1.00      1.00      1.00         3\n",
            "         119       0.80      1.00      0.89         4\n",
            "         120       1.00      1.00      1.00         6\n",
            "         121       1.00      1.00      1.00         5\n",
            "         122       1.00      1.00      1.00         4\n",
            "         123       1.00      1.00      1.00         6\n",
            "         124       1.00      1.00      1.00         4\n",
            "         125       1.00      1.00      1.00         6\n",
            "         126       1.00      1.00      1.00         5\n",
            "         127       1.00      1.00      1.00         6\n",
            "         128       1.00      1.00      1.00         5\n",
            "         129       1.00      1.00      1.00         6\n",
            "         130       0.75      1.00      0.86         3\n",
            "         131       1.00      1.00      1.00         6\n",
            "         132       1.00      1.00      1.00         3\n",
            "         133       1.00      1.00      1.00         6\n",
            "         134       1.00      1.00      1.00         4\n",
            "         135       0.86      1.00      0.92         6\n",
            "         136       1.00      1.00      1.00         6\n",
            "         137       1.00      1.00      1.00         5\n",
            "         138       1.00      1.00      1.00         2\n",
            "         139       1.00      1.00      1.00         6\n",
            "         140       1.00      1.00      1.00         6\n",
            "         141       1.00      1.00      1.00         2\n",
            "         142       0.00      0.00      0.00         1\n",
            "         143       1.00      1.00      1.00         2\n",
            "         144       1.00      1.00      1.00         2\n",
            "         145       1.00      1.00      1.00         2\n",
            "         146       1.00      0.67      0.80         3\n",
            "         147       1.00      1.00      1.00         5\n",
            "         148       1.00      1.00      1.00         4\n",
            "         149       1.00      1.00      1.00         2\n",
            "         150       0.86      1.00      0.92         6\n",
            "         151       1.00      1.00      1.00         4\n",
            "         152       1.00      1.00      1.00         5\n",
            "         153       1.00      1.00      1.00         5\n",
            "         154       1.00      0.75      0.86         4\n",
            "         155       1.00      1.00      1.00         3\n",
            "         156       1.00      1.00      1.00         6\n",
            "         157       0.80      1.00      0.89         4\n",
            "         158       0.83      1.00      0.91         5\n",
            "         159       0.86      1.00      0.92         6\n",
            "         160       1.00      1.00      1.00         6\n",
            "         161       1.00      1.00      1.00         6\n",
            "         162       1.00      1.00      1.00         2\n",
            "         163       1.00      1.00      1.00         2\n",
            "         164       0.67      1.00      0.80         2\n",
            "         165       1.00      1.00      1.00         3\n",
            "         166       1.00      1.00      1.00         3\n",
            "         167       1.00      1.00      1.00         2\n",
            "         168       1.00      0.50      0.67         2\n",
            "         169       1.00      1.00      1.00         3\n",
            "         170       1.00      1.00      1.00         6\n",
            "         171       1.00      1.00      1.00         3\n",
            "         172       1.00      1.00      1.00         4\n",
            "         173       1.00      1.00      1.00         7\n",
            "         174       1.00      1.00      1.00         3\n",
            "         175       1.00      1.00      1.00         2\n",
            "         176       1.00      1.00      1.00         3\n",
            "         177       1.00      1.00      1.00         3\n",
            "         178       1.00      1.00      1.00         4\n",
            "         179       1.00      1.00      1.00         5\n",
            "         180       0.00      0.00      0.00         1\n",
            "         181       1.00      1.00      1.00         1\n",
            "         182       0.83      1.00      0.91         5\n",
            "         183       1.00      1.00      1.00         3\n",
            "         184       1.00      1.00      1.00         2\n",
            "         185       1.00      1.00      1.00         1\n",
            "         186       1.00      1.00      1.00         2\n",
            "         187       1.00      1.00      1.00         2\n",
            "         188       1.00      0.75      0.86         4\n",
            "         189       1.00      1.00      1.00         2\n",
            "         190       0.86      1.00      0.92         6\n",
            "         191       1.00      1.00      1.00         1\n",
            "         192       1.00      1.00      1.00         2\n",
            "         193       1.00      0.67      0.80         3\n",
            "         194       1.00      1.00      1.00         3\n",
            "         195       1.00      1.00      1.00         2\n",
            "         196       1.00      1.00      1.00         3\n",
            "         197       1.00      1.00      1.00         1\n",
            "         198       1.00      1.00      1.00         2\n",
            "         199       1.00      1.00      1.00         1\n",
            "         200       1.00      1.00      1.00         5\n",
            "         201       1.00      1.00      1.00         3\n",
            "         202       0.86      1.00      0.92         6\n",
            "         203       1.00      0.75      0.86         4\n",
            "         204       0.00      0.00      0.00         1\n",
            "         205       1.00      0.50      0.67         2\n",
            "         206       1.00      1.00      1.00         3\n",
            "         207       0.00      0.00      0.00         1\n",
            "         208       1.00      1.00      1.00         2\n",
            "         209       1.00      1.00      1.00         6\n",
            "         210       0.89      1.00      0.94         8\n",
            "         211       1.00      1.00      1.00         4\n",
            "         212       1.00      1.00      1.00         4\n",
            "         213       1.00      1.00      1.00         2\n",
            "         214       1.00      1.00      1.00         2\n",
            "         215       1.00      1.00      1.00         8\n",
            "         216       1.00      1.00      1.00         4\n",
            "         217       1.00      1.00      1.00         3\n",
            "         218       1.00      1.00      1.00         3\n",
            "         219       1.00      1.00      1.00         2\n",
            "         220       1.00      1.00      1.00         8\n",
            "         221       1.00      1.00      1.00         4\n",
            "         222       1.00      1.00      1.00         2\n",
            "         223       1.00      0.67      0.80         3\n",
            "         224       1.00      0.50      0.67         2\n",
            "         225       1.00      1.00      1.00         3\n",
            "         226       1.00      1.00      1.00         2\n",
            "         227       1.00      0.67      0.80         3\n",
            "         228       1.00      1.00      1.00         3\n",
            "         229       1.00      1.00      1.00         2\n",
            "         230       1.00      1.00      1.00         6\n",
            "         231       1.00      1.00      1.00         1\n",
            "         232       1.00      1.00      1.00         3\n",
            "         233       1.00      1.00      1.00         3\n",
            "         234       1.00      1.00      1.00         2\n",
            "         235       1.00      1.00      1.00         4\n",
            "         236       1.00      1.00      1.00         2\n",
            "         237       1.00      1.00      1.00         3\n",
            "         238       1.00      1.00      1.00         1\n",
            "         239       1.00      1.00      1.00         2\n",
            "         240       0.00      0.00      0.00         1\n",
            "\n",
            "    accuracy                           0.97       944\n",
            "   macro avg       0.96      0.95      0.95       944\n",
            "weighted avg       0.97      0.97      0.96       944\n",
            "\n",
            "\n",
            "Overall Accuracy: 0.9693\n",
            "Evaluation results saved in evaluation_results\n",
            "Macro Precision  : 0.9571\n",
            "Macro Recall     : 0.9478\n",
            "Macro F1-score   : 0.9487\n"
          ]
        }
      ]
    },
    {
      "cell_type": "code",
      "source": [
        "import pandas as pd\n",
        "import matplotlib.pyplot as plt\n",
        "import tensorflow as tf\n",
        "\n",
        "# Create a results dictionary from history object\n",
        "results = {\n",
        "    'epoch': list(range(1, len(history.history['accuracy']) + 1)),\n",
        "    'accuracy': history.history['accuracy'],\n",
        "    'val_accuracy': history.history['val_accuracy'],\n",
        "    'loss': history.history['loss'],\n",
        "    'val_loss': history.history['val_loss'],\n",
        "    'learning_rate': [float(tf.keras.backend.get_value(model.optimizer.learning_rate))] * len(history.history['accuracy'])\n",
        "}\n",
        "\n",
        "# Create a DataFrame\n",
        "results_df = pd.DataFrame(results)\n",
        "print(results_df)\n",
        "\n",
        "# Save to CSV (optional)\n",
        "results_df.to_csv(\"evaluation_results/training_metrics_table.csv\", index=False)\n",
        "\n",
        "# Plot Epoch vs. Loss\n",
        "plt.figure(figsize=(10, 5))\n",
        "plt.plot(results['epoch'], results['loss'], label='Training Loss')\n",
        "plt.plot(results['epoch'], results['val_loss'], label='Validation Loss')\n",
        "plt.xlabel('Epoch')\n",
        "plt.ylabel('Loss')\n",
        "plt.title('Epoch vs Loss')\n",
        "plt.legend()\n",
        "plt.grid(True)\n",
        "plt.savefig(\"evaluation_results/epoch_vs_loss.png\")\n",
        "plt.show()\n",
        "\n",
        "# Plot Epoch vs. Accuracy\n",
        "plt.figure(figsize=(10, 5))\n",
        "plt.plot(results['epoch'], results['accuracy'], label='Training Accuracy')\n",
        "plt.plot(results['epoch'], results['val_accuracy'], label='Validation Accuracy')\n",
        "plt.xlabel('Epoch')\n",
        "plt.ylabel('Accuracy')\n",
        "plt.title('Epoch vs Accuracy')\n",
        "plt.legend()\n",
        "plt.grid(True)\n",
        "plt.savefig(\"evaluation_results/epoch_vs_accuracy.png\")\n",
        "plt.show()"
      ],
      "metadata": {
        "colab": {
          "base_uri": "https://localhost:8080/",
          "height": 1000
        },
        "id": "8SNrV42byFbL",
        "outputId": "a1a5d0a2-4378-496b-dd40-4cca10944d74"
      },
      "execution_count": 27,
      "outputs": [
        {
          "output_type": "stream",
          "name": "stdout",
          "text": [
            "    epoch  accuracy  val_accuracy      loss  val_loss  learning_rate\n",
            "0       1  0.299676      0.773453  3.833196  2.369851        0.00001\n",
            "1       2  0.855952      0.954092  0.870938  0.649841        0.00001\n",
            "2       3  0.967578      0.968064  0.290055  0.249787        0.00001\n",
            "3       4  0.992126      0.973054  0.132937  0.159498        0.00001\n",
            "4       5  0.994905      0.972056  0.076444  0.132136        0.00001\n",
            "5       6  0.997684      0.978044  0.051573  0.119497        0.00001\n",
            "6       7  0.999074      0.976048  0.036134  0.110700        0.00001\n",
            "7       8  1.000000      0.976048  0.028778  0.106259        0.00001\n",
            "8       9  0.999074      0.976048  0.022689  0.100375        0.00001\n",
            "9      10  1.000000      0.979042  0.016305  0.095569        0.00001\n",
            "10     11  1.000000      0.980040  0.015527  0.093108        0.00001\n",
            "11     12  0.999074      0.980040  0.014495  0.092755        0.00001\n",
            "12     13  1.000000      0.979042  0.011180  0.094022        0.00001\n",
            "13     14  1.000000      0.981038  0.008997  0.089028        0.00001\n",
            "14     15  1.000000      0.983034  0.008546  0.084941        0.00001\n",
            "15     16  0.999537      0.982036  0.007082  0.085165        0.00001\n",
            "16     17  1.000000      0.980040  0.006259  0.085537        0.00001\n",
            "17     18  1.000000      0.981038  0.005002  0.085185        0.00001\n",
            "18     19  1.000000      0.981038  0.004631  0.083346        0.00001\n",
            "19     20  1.000000      0.981038  0.004788  0.083774        0.00001\n"
          ]
        },
        {
          "output_type": "display_data",
          "data": {
            "text/plain": [
              "<Figure size 1000x500 with 1 Axes>"
            ],
            "image/png": "[encoded data removed]"
          },
          "metadata": {}
        },
        {
          "output_type": "display_data",
          "data": {
            "text/plain": [
              "<Figure size 1000x500 with 1 Axes>"
            ],
            "image/png": "[encoded data removed]"
          },
          "metadata": {}
        }
      ]
    }
  ],
  "metadata": {
    "accelerator": "GPU",
    "colab": {
      "gpuType": "T4",
      "provenance": []
    },
    "kernelspec": {
      "display_name": "Python 3",
      "name": "python3"
    },
    "language_info": {
      "name": "python"
    }
  },
  "nbformat": 4,
  "nbformat_minor": 0
}